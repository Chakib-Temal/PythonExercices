{
 "cells": [
  {
   "cell_type": "markdown",
   "metadata": {},
   "source": [
    "# Maximum Difference\n",
    "\n",
    "Please write a function that given an array $A[1..n]$ of `int`s returns:\n",
    "\n",
    "$$\n",
    "Max_{i=1..n,j<=i} \\left( A[i] - A[j] \\right)\n",
    "$$"
   ]
  },
  {
   "cell_type": "code",
   "execution_count": null,
   "metadata": {},
   "outputs": [],
   "source": [
    "import random\n",
    "\n",
    "#you can change these parameters \n",
    "sizeOfTable = 20\n",
    "valueMinforInteger = 1\n",
    "valueMaxOfInteger = 10\n",
    "\n",
    "def returnArrayMax():\n",
    "    tableReturned = []\n",
    "    for i, v in enumerate(tableExemple, 1):\n",
    "        tableReturned.append(tableExemple[i] - tableExemple[i - 1])\n",
    "        if i == limit:\n",
    "            break\n",
    "    return tableReturned\n",
    "\n",
    "tableExemple = [random.randint(valueMinforInteger,valueMaxOfInteger) for _ in range(sizeOfTable)]\n",
    "limit = len(tableExemple) - 1\n",
    "print(returnArrayMax())"
   ]
  }
 ],
 "metadata": {
  "kernelspec": {
   "display_name": "Python 3",
   "language": "python",
   "name": "python3"
  },
  "language_info": {
   "codemirror_mode": {
    "name": "ipython",
    "version": 3
   },
   "file_extension": ".py",
   "mimetype": "text/x-python",
   "name": "python",
   "nbconvert_exporter": "python",
   "pygments_lexer": "ipython3",
   "version": "3.7.0"
  }
 },
 "nbformat": 4,
 "nbformat_minor": 2
}
