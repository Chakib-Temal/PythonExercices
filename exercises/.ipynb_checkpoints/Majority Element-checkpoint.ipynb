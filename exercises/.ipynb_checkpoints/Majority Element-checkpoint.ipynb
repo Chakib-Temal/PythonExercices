{
 "cells": [
  {
   "cell_type": "markdown",
   "metadata": {},
   "source": [
    "# Majority Element\n",
    "\n",
    "Design an efficient algorithm determine whether an array has a majority element, and, if so, to find that element. An array has a majority element if more than half of its entries are the same.\n",
    "\n",
    "For example, assuming classes `Turtle` and `Elephant` are defined:\n",
    "\n",
    "    [Turtle(), Elephant(), 42]\n",
    "\n",
    "does not have a majority element, but\n",
    "\n",
    "    the_turtle = Turtle()\n",
    "    [the_turtle, the_turtle, \"42\"]\n",
    "\n",
    "has a majority element, `the_turtle`.\n",
    "\n",
    "The elements of the array are not necessarily from some ordered domain like integers, and so there can be no comparisons of the form \"is `A[i] > A[j]`\". However you can answer questions of the form: \"is `A[i] == A[j]`?\" in constant time in Python.\n",
    "\n",
    "Please provide a rough estimate of the complexity of the algorithm you've implemented (time and space) and why you believe it to be the most efficient solution."
   ]
  },
  {
   "cell_type": "code",
   "execution_count": null,
   "metadata": {},
   "outputs": [],
   "source": [
    "'''def majority_element(arr):\n",
    "    raise NotImplementedError()"
   ]
  },
  {
   "cell_type": "markdown",
   "metadata": {},
   "source": [
    "necessary time  : 1h:10\n",
    "\n",
    "this program requires a lot of performance, the last two tables are really huge, I preferred to release the initial thread of the application and launch the big operations on another thread, we can further improve the program by dividing the processing of these tables on other threads, but on my pc I have a dual core only, on another pc more powerful where we have more hearts, we can very well devise the work in several threads, since we are sure that they can pass on the same time on different hearts\n",
    "\n",
    "use this code : it's has all necessary (with 5 tables ], just copy/past the code and Run it  "
   ]
  },
  {
   "cell_type": "markdown",
   "metadata": {},
   "source": [
    "import random\n",
    "from threading import Thread\n",
    "\n",
    "class Bear():\n",
    "    pass\n",
    "\n",
    "class Cat():\n",
    "    pass\n",
    "\n",
    "def majority_element(arr: list):\n",
    "    condition = int (len(arr) / 2) + 1\n",
    "    compter = None\n",
    "    for i in range(len(arr)):\n",
    "        compter = 0\n",
    "        for j in range (len(arr)) :\n",
    "            if arr[i] == arr[j]:\n",
    "                compter += 1\n",
    "            #to win time, don't continue if the condition is realized\n",
    "            if compter >= condition:\n",
    "                print(\"[\" + str(i) +\"]\" + \" index of this table is a majority element and the type class value is \" + (arr[i]).__class__.__name__ )\n",
    "                return arr[i]\n",
    "    #if we don't have majority-element, so return none\n",
    "    return None\n",
    "\n",
    "\n",
    "print(\"-------------------------------------------\")\n",
    "print(\"Table 1\")\n",
    "try :\n",
    "    assert(majority_element([42, 42, 42]) == 42)\n",
    "    print(\"majority-element is : \" + str(42))\n",
    "except AssertionError :\n",
    "    print(\"you don't have a majority value in this table\")\n",
    "\n",
    "print(\"-------------------------------------------\")\n",
    "print(\"Table 2\")\n",
    "\n",
    "try :\n",
    "    assert (majority_element([1, 2, 3]) is None)\n",
    "    print(\"we don't have an element-majority\")\n",
    "except AssertionError :\n",
    "    print(\"it's impossible to have a value here\")\n",
    "\n",
    "print(\"-------------------------------------------\")\n",
    "print(\"Table 3\")\n",
    "\n",
    "try :\n",
    "    the_bear = Bear()\n",
    "    test_list = random.choices([the_bear, Cat()], [10, 1], k=10000)\n",
    "    assert(majority_element(test_list) == the_bear)\n",
    "    print(\"majority-element is : the bear \" )\n",
    "except AssertionError   :\n",
    "    print(\"you don't have a majority value in this table\")\n",
    "\n",
    "\n",
    "def newThread () :\n",
    "    try:\n",
    "        test_list = [random.random() for i in range(int(1e6) - 1)]\n",
    "        assert (majority_element(test_list) is None)\n",
    "    except AssertionError :\n",
    "        print(\"it's impossible to have a value here\")\n",
    "\n",
    "    print(\"-------------------------------------------\")\n",
    "    print(\"table 5\")\n",
    "\n",
    "    try:\n",
    "        test_list += [0.5 for i in range(int(1e6))]\n",
    "        assert (majority_element(test_list) == 0.5)\n",
    "\n",
    "    except AssertionError :\n",
    "        print(\"Resultat is None : we don't have a majority-element\")\n",
    "\n",
    "print(\"-------------------------------------------\")\n",
    "print(\"table 4\")\n",
    "\n",
    "thread = Thread(target= newThread, args=[])\n",
    "thread.start()\n",
    "\n",
    "print(\"Wainting to finish operations in another thread, main thread is liberated\")\n",
    "thread.join()\n",
    "print(\"operation finished\")"
   ]
  },
  {
   "cell_type": "code",
   "execution_count": null,
   "metadata": {},
   "outputs": [],
   "source": [
    "#import random"
   ]
  },
  {
   "cell_type": "code",
   "execution_count": null,
   "metadata": {},
   "outputs": [],
   "source": [
    "#assert(majority_element([42, 42, 42]) == 42)"
   ]
  },
  {
   "cell_type": "code",
   "execution_count": null,
   "metadata": {},
   "outputs": [],
   "source": [
    "#assert(majority_element([1, 2, 3]) is None)"
   ]
  },
  {
   "cell_type": "code",
   "execution_count": null,
   "metadata": {},
   "outputs": [],
   "source": [
    "'''class Bear():\n",
    "    pass\n",
    "\n",
    "class Cat():\n",
    "    pass\n",
    "\n",
    "the_bear = Bear()\n",
    "test_list = random.choices([the_bear, Cat()], [10, 1], k=10000)\n",
    "\n",
    "assert(majority_element(test_list) == the_bear)\n"
   ]
  },
  {
   "cell_type": "code",
   "execution_count": null,
   "metadata": {},
   "outputs": [],
   "source": [
    "#test_list = [random.random() for i in range(int(1e6) - 1)]\n",
    "\n",
    "#assert(majority_element(test_list) is None)"
   ]
  },
  {
   "cell_type": "code",
   "execution_count": null,
   "metadata": {},
   "outputs": [],
   "source": [
    "#test_list += [0.5 for i in range(int(1e6))]\n",
    "\n",
    "#assert(majority_element(test_list) == 0.5)"
   ]
  }
 ],
 "metadata": {
  "kernelspec": {
   "display_name": "Python 3",
   "language": "python",
   "name": "python3"
  },
  "language_info": {
   "codemirror_mode": {
    "name": "ipython",
    "version": 3
   },
   "file_extension": ".py",
   "mimetype": "text/x-python",
   "name": "python",
   "nbconvert_exporter": "python",
   "pygments_lexer": "ipython3",
   "version": "3.7.0"
  }
 },
 "nbformat": 4,
 "nbformat_minor": 2
}
