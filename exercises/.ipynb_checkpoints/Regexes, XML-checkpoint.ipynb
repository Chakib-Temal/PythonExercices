{
 "cells": [
  {
   "cell_type": "markdown",
   "metadata": {},
   "source": [
    "# Regular expressions\n",
    "\n",
    "Give a regular expression that detects hexadecimal numbers in a text, for example `0x0f4`, `0acdadecf822eeff32aca5830e438cb54aa722e3`, `8BADF00D` should be detected. Include a few test cases."
   ]
  },
  {
   "cell_type": "code",
   "execution_count": null,
   "metadata": {},
   "outputs": [],
   "source": [
    "import re\n",
    "line = \"0xaca50e4D2e8B2eef32,0xEEca50e4 \";\n",
    "\n",
    "#here we take only hexadecimal with 32 bits (8*4)\n",
    "#if you want to change it, change {8} in the next instruction\n",
    "pattern  = re.compile(\"[0-9a-fA-F]{8}\")\n",
    "m =  pattern.findall(line)\n",
    "if m :\n",
    "    print(m)\n",
    "else :\n",
    "    print(\"no matching\")\n",
    "\n",
    "\n",
    "#if we want to detect only hexadecimal who start with 0x..\n",
    "pattern2  = re.compile(\"0[xX][0-9a-fA-F]{8}\")\n",
    "m =  pattern2.findall(line)\n",
    "if m :\n",
    "    print(m)\n",
    "else :\n",
    "    print(\"no matching\")\n"
   ]
  },
  {
   "cell_type": "markdown",
   "metadata": {},
   "source": [
    "# XML\n",
    "\n",
    "Write a function that given an XML document (as a string) returns the number of attributes for each occurrence of the most common tag type. For instance, if the “a” tag is the most common in the provided document, it should count the total number of attributes of all “a” tags in the document.\n",
    "\n",
    "See https://docs.python.org/3/library/xml.etree.elementtree.html to load XML"
   ]
  },
  {
   "cell_type": "code",
   "execution_count": null,
   "metadata": {},
   "outputs": [],
   "source": [
    "import xml.etree.ElementTree as ET\n",
    "#charge the file (in the same directory then __init__.py\n",
    "tree = ET.parse('file.xml')\n",
    "#root is the body of all\n",
    "root = tree.getroot()\n",
    "\n",
    "\n",
    "#with this loop we can see the camplate architecture of XML , if we change the file we should change the code\n",
    "tags = []\n",
    "for child in root:\n",
    "    tags.append(child.tag)\n",
    "    for childChild in child:\n",
    "        tags.append(childChild.tag)\n",
    "\n",
    "print(tags)\n",
    "\n",
    "compter = 0\n",
    "tagValue = \"\"\n",
    "\n",
    "def returnMaxTag() -> int:\n",
    "    global compter\n",
    "    global tagValue\n",
    "    maxValue = 0\n",
    "    for i in range(len(tags)):\n",
    "        compter = 0\n",
    "        for j in range(len(tags)):\n",
    "            if tags[i] == tags[j]:\n",
    "                compter += 1\n",
    "        if compter > maxValue:\n",
    "            maxValue = compter\n",
    "            tagValue = tags[i]\n",
    "    return maxValue\n",
    "\n",
    "maxValue = returnMaxTag()\n",
    "print(tagValue + \" \" + str(maxValue))\n",
    "\n",
    "\n",
    "\n",
    "\n",
    "#file.xml\n",
    "\n",
    "'''<?xml version=\"1.0\"?>\n",
    "<data>\n",
    "    <country name=\"Liechtenstein\">\n",
    "        <rank>1</rank>\n",
    "        <year>2008</year>\n",
    "        <gdppc>141100</gdppc>\n",
    "        <neighbor name=\"Austria\" direction=\"E\"/>\n",
    "        <neighbor name=\"Switzerland\" direction=\"W\"/>\n",
    "    </country>\n",
    "    <country name=\"Singapore\">\n",
    "        <rank>4</rank>\n",
    "        <year>2011</year>\n",
    "        <gdppc>59900</gdppc>\n",
    "        <neighbor name=\"Malaysia\" direction=\"N\"/>\n",
    "    </country>\n",
    "    <country name=\"Panama\">\n",
    "        <rank>68</rank>\n",
    "        <year>2011</year>\n",
    "        <gdppc>13600</gdppc>\n",
    "        <neighbor name=\"Costa Rica\" direction=\"W\"/>\n",
    "        <neighbor name=\"Colombia\" direction=\"E\"/>\n",
    "    </country>\n",
    "</data>"
   ]
  }
 ],
 "metadata": {
  "kernelspec": {
   "display_name": "Python 3",
   "language": "python",
   "name": "python3"
  },
  "language_info": {
   "codemirror_mode": {
    "name": "ipython",
    "version": 3
   },
   "file_extension": ".py",
   "mimetype": "text/x-python",
   "name": "python",
   "nbconvert_exporter": "python",
   "pygments_lexer": "ipython3",
   "version": "3.7.0"
  }
 },
 "nbformat": 4,
 "nbformat_minor": 2
}
