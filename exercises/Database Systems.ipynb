{
 "cells": [
  {
   "cell_type": "markdown",
   "metadata": {},
   "source": [
    "# MySQL\n",
    "\n",
    "Write a `CREATE TABLE` query for a table storing information on `users`. It will store `id`, `firstname`, `lastname`, `gender`, `email`, `created_at`."
   ]
  },
  {
   "cell_type": "markdown",
   "metadata": {},
   "source": [
    "CREATE TABLE users\n",
    "(\n",
    "    id INT PRIMARY KEY NOT NULL,\n",
    "    firstname VARCHAR(20) NOT NULL,\n",
    "    lastname VARCHAR(20) NOT NULL,\n",
    "    gender ENUM('m','f') NOT NULL,\n",
    "    email VARCHAR(30) NOT NULL,\n",
    "    created_at DATETIME DEFAULT CURRENT_TIMESTAMP\n",
    ")"
   ]
  },
  {
   "cell_type": "markdown",
   "metadata": {},
   "source": [
    "Write a query on the previous table that lists the 10 most recently added `users`."
   ]
  },
  {
   "cell_type": "markdown",
   "metadata": {},
   "source": [
    "select * from users order by id desc limit 10;"
   ]
  },
  {
   "cell_type": "markdown",
   "metadata": {},
   "source": [
    "Write a query listing `emails` used by more than one `user`."
   ]
  },
  {
   "cell_type": "markdown",
   "metadata": {},
   "source": [
    "SELECT\n",
    "    email, COUNT(*) AS compter\n",
    "    FROM users\n",
    "    GROUP BY email\n",
    "    HAVING COUNT(*)>1"
   ]
  },
  {
   "cell_type": "markdown",
   "metadata": {},
   "source": [
    "Similarly, use a `JOIN` instead of a `GROUP BY` operation in order to return the rows that have a duplicated email."
   ]
  },
  {
   "cell_type": "markdown",
   "metadata": {},
   "source": [
    "SELECT\n",
    "    A.id, A.email\n",
    "    FROM users A\n",
    "        INNER JOIN (SELECT\n",
    "                        email, COUNT(*) AS Compter\n",
    "                        FROM users\n",
    "                        GROUP BY email\n",
    "                        HAVING COUNT(*)>1\n",
    "                    ) B ON A.email = B.email"
   ]
  },
  {
   "cell_type": "markdown",
   "metadata": {},
   "source": [
    "# MongoDB\n",
    "\n",
    "Write a mongo shell command to insert a `tiger` document, with a few relevant attributes, into an `animals` collection (for a Zoo management application). Include a `feeding_schedule` attribute."
   ]
  },
  {
   "cell_type": "markdown",
   "metadata": {},
   "source": [
    "db.animals.insertOne(\n",
    "   { item: \"tiger\", gender: \"male\", name: \"Hello\", feedingSchedule : 720, features : {color : \"black\", age : 2 } }\n",
    ")\n",
    "\n",
    "\n",
    "// 720 is  = 12h * 60 "
   ]
  },
  {
   "cell_type": "markdown",
   "metadata": {},
   "source": [
    "Write a mongo shell command to update the `tiger`'s name."
   ]
  },
  {
   "cell_type": "markdown",
   "metadata": {},
   "source": [
    "db.animals.updateOne(\n",
    "      { name : \"Hello\" },\n",
    "      { $set: { name : \"newName\" } }\n",
    ")"
   ]
  },
  {
   "cell_type": "markdown",
   "metadata": {},
   "source": [
    "Write a mongo shell command to index the `animals` collection based on their `feeding_schedule`."
   ]
  },
  {
   "cell_type": "markdown",
   "metadata": {},
   "source": [
    "//ascending index\n",
    "db.animals.createIndex( { feedingSchedule: 1 } )\n",
    "\n",
    "//descending index\n",
    "db.animals.createIndex( { feedingSchedule: -1 } )"
   ]
  },
  {
   "cell_type": "markdown",
   "metadata": {},
   "source": [
    "Retrieve all `animals` that need to eat within the next `hour`, ordered by their next feeding time."
   ]
  },
  {
   "cell_type": "markdown",
   "metadata": {},
   "source": [
    "db.animals.aggregate([\n",
    "  {$project: {\n",
    "      duration: {$divide: [{$subtract: [\"$feedingSchedule\", $hour * 60 ]}, 3600000]}\n",
    "  }}\n",
    "])"
   ]
  },
  {
   "cell_type": "markdown",
   "metadata": {},
   "source": [
    "# Other\n",
    "\n",
    "What are the main differences between Redis, MySQL, Redshift, Mongo? Why might you use one over the other?"
   ]
  },
  {
   "cell_type": "markdown",
   "metadata": {},
   "source": [
    "MYSQL is a structural and relationnal data base, MongoDb is not relationnal dataBase (NoSql).\n",
    "\n",
    "so in mongoDb we are not obliged to use a structurals tables , column can change between rows.\n",
    "\n",
    "in Mysql, we can't do it \n",
    "\n",
    "in mysql we have table , mongoDb we have Collection \n",
    "row in mysql : are Document in mongoDb \n",
    "Column in mysql : are Field in mongoDb \n",
    "\n",
    "MongoDb server is very fast, we export data like a json \n",
    "programmation is very simple , like a code langage\n",
    "with mongoDb, our base can evoluate very easy \n",
    "\n",
    "*Redis is a very very fast data base, because it takes data in memory Ram \n",
    "\n",
    "*Amazon Redshift is an Internet hosting service\n",
    "\n",
    "we have also ElasticSearch (No SQL) dataBase -> Database very performing \n",
    "\n",
    "\n",
    "the choice of the database depends on the size of the project and the importance of the data\n",
    "if we have just a small project, it is preferable to manage the project with Mysql, in addition usually the frameworks always propose ORM that adapts with MYSQL.\n",
    "\n",
    "if you are in big data, it is preferable to use a NOSQL database because they are much faster\n",
    "\n",
    "make big data with MYSQL is a very bad idea, with time the application will not answer more (too many requests for the base ...)\n"
   ]
  }
 ],
 "metadata": {
  "kernelspec": {
   "display_name": "Python 3",
   "language": "python",
   "name": "python3"
  },
  "language_info": {
   "codemirror_mode": {
    "name": "ipython",
    "version": 3
   },
   "file_extension": ".py",
   "mimetype": "text/x-python",
   "name": "python",
   "nbconvert_exporter": "python",
   "pygments_lexer": "ipython3",
   "version": "3.7.0"
  }
 },
 "nbformat": 4,
 "nbformat_minor": 2
}
