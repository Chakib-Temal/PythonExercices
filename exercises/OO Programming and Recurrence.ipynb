{
 "cells": [
  {
   "cell_type": "markdown",
   "metadata": {},
   "source": [
    "# Class variables and instance variables\n",
    "\n",
    "Provide an example of class variables vs instance variables. Use a realistic use case."
   ]
  },
  {
   "cell_type": "code",
   "execution_count": null,
   "metadata": {},
   "outputs": [],
   "source": [
    "class Car :\n",
    "    classVariable = 0\n",
    "    __name = \"defaultName\"\n",
    "\n",
    "    def __init__(self, name):\n",
    "        Car.classVariable += 1\n",
    "        self.__name = name\n",
    "\n",
    "    def getName(self):\n",
    "        return self.__name\n",
    "\n",
    "garage = [Car(\"car 1\"), Car(\"car 2\"), Car(\"car 3\")]\n",
    "\n",
    "for i in range (len(garage)) :\n",
    "    print(garage[i].getName() + \" and the value of the static variable is \" + str(Car.classVariable))\n",
    "    "
   ]
  },
  {
   "cell_type": "markdown",
   "metadata": {},
   "source": [
    "# Class design\n",
    "\n",
    "Write two classes, one to represent a rectangle, the second a square. They must have an appropriate constructor (width, height for the rectangle, width for the square) and area and perimeter calculation methods. Code duplication must be avoided as much as possible. Please explain your implementation choices."
   ]
  },
  {
   "cell_type": "code",
   "execution_count": null,
   "metadata": {},
   "outputs": [],
   "source": [
    "from math import sqrt\n",
    "\n",
    "class Rectangle:\n",
    "    __height = 0\n",
    "    __width = 0\n",
    "\n",
    "    def __init__(self, width, height):\n",
    "        self.__width = width\n",
    "        self.__height = height\n",
    "\n",
    "    def areaCalculator(self):\n",
    "        return (self.__width * self.__height ) / 2\n",
    "\n",
    "    def pirimeterCalculator (self):\n",
    "        return sqrt((self.__height ** 2) + (self.__width ** 2))\n",
    "\n",
    "class Square:\n",
    "    __width = 0\n",
    "\n",
    "    def __init__(self, width):\n",
    "        self.__width = width\n",
    "\n",
    "    def areaCalculator (self) :\n",
    "        return self.__width * self .__width\n",
    "\n",
    "    def pirimeterCalculator(self):\n",
    "        return self.__width * 4\n",
    "\n",
    "\n",
    "rec = Rectangle(3, 4)\n",
    "print(rec.pirimeterCalculator())\n",
    "print(rec.areaCalculator())\n",
    "\n",
    "square = Square(5)\n",
    "print(square.pirimeterCalculator())\n",
    "print(square.areaCalculator())"
   ]
  },
  {
   "cell_type": "markdown",
   "metadata": {},
   "source": [
    "# Recursivity (or not)\n",
    "\n",
    "Here is the pseudo code of a function that is defined recursively:\n",
    "\n",
    "$$\n",
    "\\begin{align}\n",
    "f(0) & = 1 \\\\\n",
    "f(1) & = 3 \\\\\n",
    "f(n) & = 3 * f(n - 1) - f(n - 2) \\\\\n",
    "\\end{align}\n",
    "$$\n",
    "\n",
    "Provide an implementation for $f$. Bonus points for a non recursive implementation."
   ]
  },
  {
   "cell_type": "code",
   "execution_count": null,
   "metadata": {},
   "outputs": [],
   "source": [
    "#number of Sample\n",
    "n = 100;\n",
    "#with x, we store the value of index iterration\n",
    "x = 0\n",
    "#table to save values\n",
    "f = []\n",
    "\n",
    "def fonction(x):\n",
    "    if x == 0 :\n",
    "        f.append(1);\n",
    "        x += 1\n",
    "    elif x == 1 :\n",
    "        f.append(3);\n",
    "        x += 1\n",
    "    else :\n",
    "        f.append(((3 * f[x-1]) - f[x-2]))\n",
    "        x += 1\n",
    "    if x < n:\n",
    "        fonction(x)\n",
    "    return x\n",
    "\n",
    "fonction(x)\n",
    "print(f)"
   ]
  }
 ],
 "metadata": {
  "kernelspec": {
   "display_name": "Python 3",
   "language": "python",
   "name": "python3"
  },
  "language_info": {
   "codemirror_mode": {
    "name": "ipython",
    "version": 3
   },
   "file_extension": ".py",
   "mimetype": "text/x-python",
   "name": "python",
   "nbconvert_exporter": "python",
   "pygments_lexer": "ipython3",
   "version": "3.7.0"
  }
 },
 "nbformat": 4,
 "nbformat_minor": 2
}
